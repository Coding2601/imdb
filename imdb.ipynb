{
 "cells": [
  {
   "cell_type": "code",
   "execution_count": 1,
   "id": "b1e862c0",
   "metadata": {},
   "outputs": [],
   "source": [
    "import requests \n",
    "from requests import get \n",
    "from bs4 import BeautifulSoup \n",
    "import pandas as pd\n",
    "import numpy as np\n",
    "from selenium.webdriver.common.by import By\n",
    "import time\n",
    "import csv\n",
    "from time import sleep\n",
    "from random import randint\n",
    "import lxml\n",
    "from selenium import webdriver\n",
    "from webdriver_manager.chrome import ChromeDriverManager\n",
    "from selenium.webdriver.chrome.service import Service\n",
    "import math"
   ]
  },
  {
   "cell_type": "code",
   "execution_count": 2,
   "id": "a19f6413",
   "metadata": {},
   "outputs": [],
   "source": [
    "browser_driver = ChromeDriverManager().install()\n",
    "service = Service(browser_driver)\n",
    "driver = webdriver.Chrome(service=service)"
   ]
  },
  {
   "cell_type": "code",
   "execution_count": 9,
   "id": "e340a10d",
   "metadata": {},
   "outputs": [],
   "source": [
    "list_movies = [\"https://www.imdb.com/title/tt1806913/reviews/?ref_=tt_ov_rt\"]"
   ]
  },
  {
   "cell_type": "code",
   "execution_count": 10,
   "id": "472be2b9",
   "metadata": {
    "scrolled": true
   },
   "outputs": [
    {
     "name": "stdout",
     "output_type": "stream",
     "text": [
      "got page number 1\n",
      "got page number 2\n",
      "got page number 3\n",
      "failed to get page number 4\n"
     ]
    }
   ],
   "source": [
    "for movielist in list_movies:\n",
    "    \n",
    "    url = movielist\n",
    "    driver.get(url)\n",
    "    html = driver.page_source.encode('utf-8')\n",
    "    page_num = 0\n",
    "\n",
    "    while driver.find_element(By.CLASS_NAME, 'ipl-load-more__button'):\n",
    "        try:\n",
    "            driver.find_element(By.CLASS_NAME, 'ipl-load-more__button').click()\n",
    "            page_num += 1\n",
    "            print(\"got page number \"+str(page_num))\n",
    "            time.sleep(randint(10, 60))\n",
    "        except:\n",
    "            page_num += 1\n",
    "            print(\"failed to get page number \"+str(page_num))\n",
    "            break\n",
    "            \n",
    "    html = driver.page_source.encode('utf-8')\n",
    "\n",
    "    soup = BeautifulSoup(html, 'lxml')\n",
    "\n",
    "    reviews = []\n",
    "    ratings = []\n",
    "    subjects = []\n",
    "    titles = []\n",
    "\n",
    "    movies = soup.findAll('div',{'class':'lister-item-content'})\n",
    "    movies2 = soup.findAll('div',{'class':'subpage_title_block__right-column'})\n",
    "    \n",
    "    for m2 in movies2:\n",
    "        try:\n",
    "            name_titles = m2.h3.a.text\n",
    "        except:\n",
    "            name_titles = \" \"\n",
    "    \n",
    "    for m in movies:\n",
    "        try:\n",
    "            reviews.append(str(m.find('div',{\"class\":\"text show-more__control\"}).text))\n",
    "        except:\n",
    "            reviews.append(str(m.find('div',{\"class\":\"text show-more__control clickable\"}).text))\n",
    "        try:\n",
    "            ratings.append(m.find('span',{\"class\":\"\"}).text)\n",
    "        except:\n",
    "            ratings.append(0)\n",
    "        try:\n",
    "            subjects.append(m.a.text)     \n",
    "        except:\n",
    "            subjects.append(0)\n",
    "\n",
    "    total_num = len(subjects)\n",
    "\n",
    "    for tot in range(0,total_num):\n",
    "        titles.append(name_titles)\n",
    "    x = list(zip(reviews, ratings, subjects,titles))\n",
    "    \n",
    "    df = pd.DataFrame(x, columns=[\"reviews\",\"ratings\",\"subjects\",\"titles\"])\n",
    "    try:\n",
    "        df.to_csv(r'C:\\Users\\Ravi Mishra\\OneDrive\\Desktop\\Python\\WebSrapping\\IMDB\\golmaal again.csv', index=False, header=True)\n",
    "    except:\n",
    "        print(\"failed to write\")"
   ]
  },
  {
   "cell_type": "code",
   "execution_count": 29,
   "id": "800ec01b",
   "metadata": {},
   "outputs": [],
   "source": [
    "df = pd.DataFrame(pd.read_csv(\"golmaal 3.csv\"))"
   ]
  },
  {
   "cell_type": "code",
   "execution_count": 30,
   "id": "ad8d40ca",
   "metadata": {},
   "outputs": [
    {
     "data": {
      "text/plain": [
       "(46, 4)"
      ]
     },
     "execution_count": 30,
     "metadata": {},
     "output_type": "execute_result"
    }
   ],
   "source": [
    "df.shape"
   ]
  },
  {
   "cell_type": "code",
   "execution_count": 31,
   "id": "fff7461d",
   "metadata": {},
   "outputs": [
    {
     "name": "stdout",
     "output_type": "stream",
     "text": [
      "1, 11, 2, 0, 2, 4, 4, 6, 5, 8, 2, "
     ]
    }
   ],
   "source": [
    "for i in range(11):\n",
    "    print(df[df[\"ratings\"]==f\"{i}\"].shape[0], end=\", \")"
   ]
  },
  {
   "cell_type": "code",
   "execution_count": 32,
   "id": "136a19df",
   "metadata": {},
   "outputs": [
    {
     "name": "stdout",
     "output_type": "stream",
     "text": [
      "0, 0, 0, 0, 0, 0, 0, 0, 0, 0, 0, "
     ]
    }
   ],
   "source": [
    "for i in range(11):\n",
    "    print(df[df[\"ratings\"]==i].shape[0], end=\", \")"
   ]
  },
  {
   "cell_type": "code",
   "execution_count": 33,
   "id": "679962d3",
   "metadata": {},
   "outputs": [],
   "source": [
    "df.drop(df[df[\"ratings\"] == \"10\"].index, inplace=True)"
   ]
  },
  {
   "cell_type": "code",
   "execution_count": 34,
   "id": "7cc76a63",
   "metadata": {},
   "outputs": [],
   "source": [
    "df.drop(df[df[\"ratings\"] == \"9\"].index, inplace=True)"
   ]
  },
  {
   "cell_type": "code",
   "execution_count": 35,
   "id": "75e91ba3",
   "metadata": {},
   "outputs": [],
   "source": [
    "df.drop(df[df[\"ratings\"] == \"8\"].index, inplace=True)"
   ]
  },
  {
   "cell_type": "code",
   "execution_count": 36,
   "id": "a989f233",
   "metadata": {},
   "outputs": [],
   "source": [
    "df.drop(df[df[\"ratings\"] == \"7\"].index, inplace=True)"
   ]
  },
  {
   "cell_type": "code",
   "execution_count": 37,
   "id": "0c66074a",
   "metadata": {},
   "outputs": [],
   "source": [
    "df.drop(df[df[\"ratings\"] == 10].index, inplace=True)"
   ]
  },
  {
   "cell_type": "code",
   "execution_count": 38,
   "id": "0873d8f5",
   "metadata": {},
   "outputs": [],
   "source": [
    "df.drop(df[df[\"ratings\"] == 9].index, inplace=True)"
   ]
  },
  {
   "cell_type": "code",
   "execution_count": 39,
   "id": "b2bec6f0",
   "metadata": {},
   "outputs": [],
   "source": [
    "df.drop(df[df[\"ratings\"] == 8].index, inplace=True)"
   ]
  },
  {
   "cell_type": "code",
   "execution_count": 40,
   "id": "d27fa5a8",
   "metadata": {},
   "outputs": [],
   "source": [
    "df.drop(df[df[\"ratings\"] == 7].index, inplace=True)"
   ]
  },
  {
   "cell_type": "code",
   "execution_count": 41,
   "id": "eb13d4f7",
   "metadata": {},
   "outputs": [],
   "source": [
    "df.drop(df[df[\"ratings\"] == 0].index, inplace=True)"
   ]
  },
  {
   "cell_type": "code",
   "execution_count": 42,
   "id": "5675c4b9",
   "metadata": {},
   "outputs": [],
   "source": [
    "df.drop(df[df[\"ratings\"] == 1].index, inplace=True)"
   ]
  },
  {
   "cell_type": "code",
   "execution_count": 43,
   "id": "7ca77246",
   "metadata": {},
   "outputs": [],
   "source": [
    "df.drop(df[df[\"ratings\"] == 2].index, inplace=True)"
   ]
  },
  {
   "cell_type": "code",
   "execution_count": 44,
   "id": "bf10ba25",
   "metadata": {},
   "outputs": [],
   "source": [
    "df.drop(df[df[\"ratings\"] == 3].index, inplace=True)"
   ]
  },
  {
   "cell_type": "code",
   "execution_count": 45,
   "id": "a45c0aac",
   "metadata": {},
   "outputs": [
    {
     "data": {
      "text/plain": [
       "(25, 4)"
      ]
     },
     "execution_count": 45,
     "metadata": {},
     "output_type": "execute_result"
    }
   ],
   "source": [
    "df.shape"
   ]
  },
  {
   "cell_type": "code",
   "execution_count": 46,
   "id": "3603adf9",
   "metadata": {},
   "outputs": [],
   "source": [
    "df.to_csv(\"golmaal 3.csv\", index=None)"
   ]
  },
  {
   "cell_type": "code",
   "execution_count": null,
   "id": "ca4d579b",
   "metadata": {},
   "outputs": [],
   "source": []
  }
 ],
 "metadata": {
  "kernelspec": {
   "display_name": "Python 3 (ipykernel)",
   "language": "python",
   "name": "python3"
  },
  "language_info": {
   "codemirror_mode": {
    "name": "ipython",
    "version": 3
   },
   "file_extension": ".py",
   "mimetype": "text/x-python",
   "name": "python",
   "nbconvert_exporter": "python",
   "pygments_lexer": "ipython3",
   "version": "3.10.4"
  }
 },
 "nbformat": 4,
 "nbformat_minor": 5
}
